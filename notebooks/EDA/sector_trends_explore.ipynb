{
 "cells": [
  {
   "cell_type": "code",
   "execution_count": null,
   "id": "77fea524",
   "metadata": {},
   "outputs": [],
   "source": [
    "# Init spark session to read data from parquet files\n",
    "from pyspark.sql import SparkSession\n",
    "from pyspark.sql.types import DateType, IntegerType\n",
    "from pyspark.sql import functions as F\n",
    "from stocksx.configs.spark_config import SparkConfig\n",
    "from stocksx.data_pipeline.sub_modules.spark_manager import SparkManager\n",
    "import matplotlib.pyplot as plt\n",
    "import seaborn as sns\n",
    "import pandas as pd\n",
    "import os\n",
    "import sys\n",
    "os.environ[\"PYSPARK_PYTHON\"] = sys.executable\n",
    "os.environ[\"PYSPARK_DRIVER_PYTHON\"] = sys.executable"
   ]
  },
  {
   "cell_type": "code",
   "execution_count": null,
   "id": "905830a1",
   "metadata": {},
   "outputs": [
    {
     "name": "stdout",
     "output_type": "stream",
     "text": [
      "\n",
      "=== Verifying Configuration ===\n",
      "Testing Spark basic functionality...\n",
      "Using package root: e:\\projects\\stocksx_price_and_news_influences\n",
      "Iceberg warehouse: file:///e:/projects/stocksx_price_and_news_influences/data/warehouse/iceberg\n",
      "Hive warehouse: file:///e:/projects/stocksx_price_and_news_influences/data/warehouse/hive\n",
      "Found PostgreSQL JDBC driver at: e:\\projects\\stocksx_price_and_news_influences\\stocksx\\libs\\postgresql-42.7.5.jar\n",
      "Created Spark session with:\n",
      "- Iceberg enabled: True\n",
      "- Hive metastore: True\n",
      "- Warehouse dir: file:///e:/projects/stocksx_price_and_news_influences/data/warehouse/iceberg\n",
      "- Hive config dir: e:\\projects\\stocksx_price_and_news_influences\\stocksx\\configs\n",
      "Basic Spark functionality: OK (1+1=2)\n",
      "\n",
      "Initializing Hive metastore schema...\n",
      "Initializing Hive metastore schema...\n",
      "Hive metastore schema already exists.\n",
      "\n",
      "Testing Iceberg functionality...\n",
      "Iceberg functionality: OK\n",
      "\n",
      "Testing Hive metastore...\n",
      "Database result schema:\n",
      "root\n",
      " |-- namespace: string (nullable = false)\n",
      "\n",
      "Found databases: ['default', 'iceberg_test', 'raw_data']\n",
      "Hive metastore functionality: OK\n",
      "Dropped test database\n",
      "\n",
      "Verification complete!\n"
     ]
    }
   ],
   "source": [
    "from pyspark.sql import SparkSession\n",
    "from pyspark.sql.functions import col\n",
    "from pyspark.sql import functions as F\n",
    "\n",
    "spark_config = SparkConfig(iceberg_enabled=True, iceberg_namespace = \"raw_data\", \n",
    "                           iceberg_warehouse=\"data/warehouse/iceberg\")\n",
    "spark_manager = SparkManager(spark_config)\n",
    "spark_manager.verify_configuration()\n",
    "spark = spark_manager.session"
   ]
  },
  {
   "cell_type": "code",
   "execution_count": null,
   "id": "a3da41f4",
   "metadata": {},
   "outputs": [
    {
     "name": "stdout",
     "output_type": "stream",
     "text": [
      "+-------------+\n",
      "|      catalog|\n",
      "+-------------+\n",
      "|spark_catalog|\n",
      "+-------------+\n",
      "\n",
      "+---------+\n",
      "|namespace|\n",
      "+---------+\n",
      "|  default|\n",
      "| raw_data|\n",
      "+---------+\n",
      "\n"
     ]
    }
   ],
   "source": [
    "# List all available catalogs\n",
    "spark.sql(\"SHOW CATALOGS\").show()\n",
    "\n",
    "# List all namespaces in the local catalog\n",
    "spark.sql(\"SHOW NAMESPACES IN spark_catalog\").show()"
   ]
  },
  {
   "cell_type": "code",
   "execution_count": null,
   "id": "2c745e59",
   "metadata": {},
   "outputs": [],
   "source": [
    "spark_df = spark.sql(\"SELECT * FROM raw_data.stocks\")"
   ]
  }
 ],
 "metadata": {
  "language_info": {
   "name": "python"
  }
 },
 "nbformat": 4,
 "nbformat_minor": 5
}
