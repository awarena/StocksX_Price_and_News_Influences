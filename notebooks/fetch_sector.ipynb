{
 "cells": [
  {
   "cell_type": "code",
   "execution_count": null,
   "id": "12624c6b",
   "metadata": {},
   "outputs": [],
   "source": [
    "# Init spark session to read data from parquet files\n",
    "from pyspark.sql import SparkSession\n",
    "from pyspark.sql.types import DateType, IntegerType\n",
    "from pyspark.sql import functions as F\n",
    "from stocksx.configs.spark_config import SparkConfig\n",
    "from stocksx.data_pipeline.sub_modules.spark_manager import SparkManager\n",
    "import matplotlib.pyplot as plt\n",
    "import seaborn as sns\n",
    "import pandas as pd\n",
    "import os\n",
    "import sys\n",
    "os.environ[\"PYSPARK_PYTHON\"] = sys.executable\n",
    "os.environ[\"PYSPARK_DRIVER_PYTHON\"] = sys.executable"
   ]
  },
  {
   "cell_type": "code",
   "execution_count": null,
   "id": "4ff8ecfb",
   "metadata": {},
   "outputs": [
    {
     "name": "stdout",
     "output_type": "stream",
     "text": [
      "\n",
      "=== Verifying Configuration ===\n",
      "Testing Spark basic functionality...\n",
      "Using package root: e:\\projects\\stocksx_price_and_news_influences\n",
      "Iceberg warehouse: file:///e:/projects/stocksx_price_and_news_influences/data/warehouse/iceberg\n",
      "Hive warehouse: file:///e:/projects/stocksx_price_and_news_influences/data/warehouse/hive\n",
      "Found PostgreSQL JDBC driver at: e:\\projects\\stocksx_price_and_news_influences\\stocksx\\libs\\postgresql-42.7.5.jar\n",
      "Created Spark session with:\n",
      "- Iceberg enabled: True\n",
      "- Hive metastore: True\n",
      "- Warehouse dir: file:///e:/projects/stocksx_price_and_news_influences/data/warehouse/iceberg\n",
      "- Hive config dir: e:\\projects\\stocksx_price_and_news_influences\\stocksx\\configs\n",
      "Basic Spark functionality: OK (1+1=2)\n",
      "\n",
      "Initializing Hive metastore schema...\n",
      "Initializing Hive metastore schema...\n",
      "Hive metastore schema already exists.\n",
      "\n",
      "Testing Iceberg functionality...\n",
      "Iceberg functionality: OK\n",
      "\n",
      "Testing Hive metastore...\n",
      "Database result schema:\n",
      "root\n",
      " |-- namespace: string (nullable = false)\n",
      "\n",
      "Found databases: ['default', 'iceberg_test', 'raw_data']\n",
      "Hive metastore functionality: OK\n",
      "Dropped test database\n",
      "\n",
      "Verification complete!\n"
     ]
    }
   ],
   "source": [
    "from pyspark.sql import SparkSession\n",
    "from pyspark.sql.functions import col\n",
    "from pyspark.sql import functions as F\n",
    "\n",
    "spark_config = SparkConfig(iceberg_enabled=True, iceberg_namespace = \"raw_data\", \n",
    "                           iceberg_warehouse=\"data/warehouse/iceberg\")\n",
    "spark_manager = SparkManager(spark_config)\n",
    "spark_manager.verify_configuration()\n",
    "spark = spark_manager.session"
   ]
  },
  {
   "cell_type": "code",
   "execution_count": null,
   "id": "f78841be",
   "metadata": {},
   "outputs": [
    {
     "name": "stdout",
     "output_type": "stream",
     "text": [
      "+-------------+\n",
      "|      catalog|\n",
      "+-------------+\n",
      "|spark_catalog|\n",
      "+-------------+\n",
      "\n",
      "+---------+\n",
      "|namespace|\n",
      "+---------+\n",
      "|  default|\n",
      "| raw_data|\n",
      "+---------+\n",
      "\n"
     ]
    }
   ],
   "source": [
    "# List all available catalogs\n",
    "spark.sql(\"SHOW CATALOGS\").show()\n",
    "\n",
    "# List all namespaces in the local catalog\n",
    "spark.sql(\"SHOW NAMESPACES IN spark_catalog\").show()"
   ]
  },
  {
   "cell_type": "code",
   "execution_count": null,
   "id": "dee94c9c",
   "metadata": {},
   "outputs": [],
   "source": [
    "# Load data from the local Iceberg warehouse\n",
    "# Using the catalog.database.table format\n",
    "spark_df = spark.read.format(\"iceberg\").table(\"spark_catalog.raw_data.stock_prices\")\n",
    "metadata = pd.read_csv(\"../data/metadata/stock_updates_metadata/metadata.csv\")\n",
    "missing_sector = metadata[metadata[\"sector\"].isnull() | metadata[\"sector\"].eq(\"\")][\"symbol\"].tolist()"
   ]
  },
  {
   "cell_type": "code",
   "execution_count": null,
   "id": "d351be63",
   "metadata": {},
   "outputs": [],
   "source": [
    "from stocksx.utils.sector_fetcher import fetch_sectors_spark\n",
    "\n",
    "# Use your Spark session\n",
    "sector_pd = fetch_sectors_spark(spark_manager.session, missing_sector)"
   ]
  },
  {
   "cell_type": "code",
   "execution_count": null,
   "id": "b33112a3",
   "metadata": {},
   "outputs": [
    {
     "data": {
      "text/plain": [
       "(5961, 2)"
      ]
     },
     "metadata": {},
     "output_type": "display_data"
    }
   ],
   "source": [
    "sector_pd.shape"
   ]
  },
  {
   "cell_type": "code",
   "execution_count": null,
   "id": "3bc079f7",
   "metadata": {},
   "outputs": [],
   "source": [
    "# replace the missing sectors in the metadata DataFrame with the fetched sectors\n",
    "metadata.loc[metadata[\"symbol\"].isin(sector_pd[\"symbol\"]), \"sector\"] = sector_pd[\"sector\"].values"
   ]
  },
  {
   "cell_type": "code",
   "execution_count": null,
   "id": "dbb43448",
   "metadata": {},
   "outputs": [],
   "source": [
    "# save metadata with sectors\n",
    "metadata.to_csv(\"../data/metadata/stock_updates_metadata/metadata.csv\", index=False)"
   ]
  }
 ],
 "metadata": {
  "language_info": {
   "name": "python"
  }
 },
 "nbformat": 4,
 "nbformat_minor": 5
}
