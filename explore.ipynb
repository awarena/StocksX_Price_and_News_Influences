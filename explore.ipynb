{
 "cells": [
  {
   "cell_type": "code",
   "execution_count": 1,
   "metadata": {},
   "outputs": [],
   "source": [
    "# Init spark session to read data from parquet files\n",
    "from pyspark.sql import SparkSession\n",
    "from pyspark.sql.functions import col\n",
    "from pyspark.sql.functions import countDistinct\n",
    "from pyspark.sql.functions import count\n",
    "from pyspark.sql.functions import sum\n"
   ]
  },
  {
   "cell_type": "code",
   "execution_count": null,
   "metadata": {},
   "outputs": [
    {
     "name": "stdout",
     "output_type": "stream",
     "text": [
      "+---------+-----------+------------------+------------------+------------------+------------------+-------+\n",
      "|symbol_id|    date_id|              open|              high|               low|             close| volume|\n",
      "+---------+-----------+------------------+------------------+------------------+------------------+-------+\n",
      "|       68|        553| 19.04271840063822|19.219722587765958|18.902589558314673|  19.1680965423584|4800800|\n",
      "|       68| 8589935145|19.138597984505786|19.160722630367406|18.622334678268103|19.013219833374023|9635600|\n",
      "|       68|25769804325| 19.02796980360862|  19.5147317236983|18.991094454727797| 19.12384796142578|6066700|\n",
      "|       68|        481| 19.00584471422022|19.249225668595493| 18.87309121061473|19.027969360351562|5112100|\n",
      "|       68| 8589935246|19.153346490481066|19.256599991497634|18.961591596255197|19.094345092773438|3683600|\n",
      "+---------+-----------+------------------+------------------+------------------+------------------+-------+\n",
      "only showing top 5 rows\n",
      "\n",
      "root\n",
      " |-- symbol_id: long (nullable = true)\n",
      " |-- date_id: long (nullable = true)\n",
      " |-- open: double (nullable = true)\n",
      " |-- high: double (nullable = true)\n",
      " |-- low: double (nullable = true)\n",
      " |-- close: double (nullable = true)\n",
      " |-- volume: long (nullable = true)\n",
      "\n"
     ]
    }
   ],
   "source": [
    "# Load data from parquet files\n",
    "spark = SparkSession.builder.appName(\"Data Exploration\").getOrCreate()\n",
    "df_stock = spark.read.parquet(\"Raw_Data/parquets/stock_prices.parquet\")\n",
    "df_symbol = spark.read.parquet(\"Raw_Data/parquets/symbols.parquet\")\n",
    "df_trading_days = spark.read.parquet(\"Raw_Data/parquets/trading_days.parquet\")\n"
   ]
  }
 ],
 "metadata": {
  "kernelspec": {
   "display_name": "tf270_stocks",
   "language": "python",
   "name": "python3"
  },
  "language_info": {
   "codemirror_mode": {
    "name": "ipython",
    "version": 3
   },
   "file_extension": ".py",
   "mimetype": "text/x-python",
   "name": "python",
   "nbconvert_exporter": "python",
   "pygments_lexer": "ipython3",
   "version": "3.9.13"
  }
 },
 "nbformat": 4,
 "nbformat_minor": 2
}
