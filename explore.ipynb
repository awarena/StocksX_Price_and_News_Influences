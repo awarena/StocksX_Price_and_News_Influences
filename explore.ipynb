{
 "cells": [
  {
   "cell_type": "code",
   "execution_count": 2,
   "metadata": {},
   "outputs": [],
   "source": [
    "# Init spark session to read data from parquet files\n",
    "from pyspark.sql import SparkSession\n",
    "from pyspark.sql import SparkSession\n",
    "from pyspark.sql.types import DateType, IntegerType\n",
    "from pyspark.sql import functions as F\n"
   ]
  },
  {
   "cell_type": "code",
   "execution_count": 3,
   "metadata": {},
   "outputs": [],
   "source": [
    "# Importing the data\n",
    "spark = SparkSession.builder.appName(\"data_processing\").getOrCreate()\n",
    "df_stock = spark.read.parquet(\"Raw_Data/parquets/stock_prices.parquet\")\n",
    "df_last_updated = spark.read.parquet(\"Raw_Data/parquets/last_update.parquet\")\n"
   ]
  },
  {
   "cell_type": "code",
   "execution_count": 4,
   "metadata": {},
   "outputs": [
    {
     "name": "stdout",
     "output_type": "stream",
     "text": [
      "+-------------------+------------------+------------------+------------------+------------------+------+------+\n",
      "|         trade_date|              open|              high|               low|             close|volume|symbol|\n",
      "+-------------------+------------------+------------------+------------------+------------------+------+------+\n",
      "|1962-01-24 00:00:00|1.3746666588165695|1.3746666588165695|  1.33751352941838|1.3660928010940552| 45943|    AA|\n",
      "|1962-02-26 00:00:00|1.3959934937553617|1.4017382860183716|1.3730142152662008|1.4017382860183716| 82896|    AA|\n",
      "|1962-01-22 00:00:00|1.3832379579544067|1.4032434453635145|1.3832379579544067|1.3832379579544067| 69913|    AA|\n",
      "|1962-02-12 00:00:00| 1.338545022624636|1.3414175279555896|1.3356727361679077|1.3356727361679077| 16979|    AA|\n",
      "|1962-02-27 00:00:00|1.4017382860183716|1.4074830782813814|1.4017382860183716|1.4017382860183716| 27965|    AA|\n",
      "+-------------------+------------------+------------------+------------------+------------------+------+------+\n",
      "only showing top 5 rows\n",
      "\n",
      "+-----------+------+\n",
      "|last_update|symbol|\n",
      "+-----------+------+\n",
      "| 2025-02-22|     A|\n",
      "| 2025-02-22|    AA|\n",
      "| 2025-02-22| AACBU|\n",
      "+-----------+------+\n",
      "\n"
     ]
    }
   ],
   "source": [
    "# show the data\n",
    "df_stock.show(5)\n",
    "df_last_updated.show(5)"
   ]
  }
 ],
 "metadata": {
  "kernelspec": {
   "display_name": "tf270_stocks",
   "language": "python",
   "name": "python3"
  },
  "language_info": {
   "codemirror_mode": {
    "name": "ipython",
    "version": 3
   },
   "file_extension": ".py",
   "mimetype": "text/x-python",
   "name": "python",
   "nbconvert_exporter": "python",
   "pygments_lexer": "ipython3",
   "version": "3.9.13"
  }
 },
 "nbformat": 4,
 "nbformat_minor": 2
}
